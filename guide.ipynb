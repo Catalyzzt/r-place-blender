{
 "cells": [
  {
   "cell_type": "markdown",
   "id": "11b0bd2b",
   "metadata": {},
   "source": [
    "# r/Place Data Visualization\n",
    "\n",
    "This is a short guide describing the process I use to create 3D data visualizations in Blender. There are four main steps:\n",
    "\n",
    "1. Trimming and formatting the dataset\n",
    "2. Sorting the dataset\n",
    "3. Generating color and height maps from the dataset\n",
    "4. Using the color and height maps to create the visualization in Blender"
   ]
  },
  {
   "cell_type": "markdown",
   "id": "9e710cbb",
   "metadata": {},
   "source": [
    "## Trimming and Formatting the Dataset\n",
    "\n",
    "Shortly after the end of r/Place 2022, Reddit released a [dataset](https://www.reddit.com/r/place/comments/txvk2d/rplace_datasets_april_fools_2022/) containing the timestamp, user ID (hashed), pixel color, and coordinates of every tile placed throughout the entire event (that's about 160 million tiles!). Here's a sample the data from the CSV file:\n",
    "\n",
    "|timestamp                  |user_id                                                                                 |pixel_color|coordinate         |\n",
    "|---------------------------|----------------------------------------------------------------------------------------|-----------|-------------------|\n",
    "|2022-04-04 00:53:51.577 UTC|ovTZk4GyTS1mDQnTbV+vDOCu1f+u6w+CkIZ6445vD4XN8alFy/6GtNkYp5MSic6Tjo/fBCCGe6oZKMAN3rEZHw==|#00CCC0    |826,1048           |\n",
    "|2022-04-04 00:53:53.758 UTC|6NSgFa1CvIPly1VniNhlbrmoN3vgDFbMSKqh+c4TTfrr3dMib91oUWONX96g5PPcioIxedF24ldNOu/g5yqDrg==|#94B3FF    |583,1031           |\n",
    "|2022-04-04 00:53:54.685 UTC|O5Oityp3Z3owzTuwM9XnMggpLcqKEumsOMKGhRiDTTImWbNLhLKmLI4gn1QPbaABqZqmFC/OmE/O732n39dGIQ==|#6A5CFF    |1873,558           |\n",
    "|2022-04-04 00:54:57.541 UTC|tc273UiqS0wKa6VwiOs/iz/t4LyPYrhL2Q347awn11IQQELrEzZBCmGe28NWM+O1IdfH4CieCpEnE5sHecW9Ow==|#009EAA    |1627,255           |\n",
    "|2022-04-04 00:55:16.307 UTC|OOWsU/HLb4UUkQwclDeXFtsJTOXMlAdNHiRpFA1Qk+SxUrJE7lpGFevfV9w+zImFimmNANlDdfN3kluz69M9MQ==|#94B3FF    |49,1478            |\n",
    "|2022-04-04 00:55:20.64 UTC |A0HdtcPvI7ipKivvXNVZDa3gkcjGXFjNxF5tca5QXazENCGVR8d3j65QVgnaVIgvGbdtiGuSvRs1rAj2f1oMAQ==|#E4ABFF    |408,1863           |\n",
    "|2022-04-04 00:55:34.898 UTC|1U4LPuB22P6Yf7eRhKz6zU1dFMK5wXIzsNVPUNhP7eHIwGuMfnDz/hDh/8QhDug6qqsKXHYvgH9L5FnWNMGm3A==|#94B3FF    |111,1582           |\n",
    "|2022-04-04 00:55:57.168 UTC|tPcrtm7OtEmSThdRSWmB7jmTF9lUVZ1pltNv1oKqPY9bom/EGIO3/b5kjRenbD3vMF48psnR9MnhIrTT1bpC9A==|#6A5CFF    |1908,1854          |\n",
    "|2022-04-04 00:55:40.375 UTC|0AGoMGF50j0DJDc+704SwMylU90YDILDIgo8WOetgpiEWGEhMB3Eh8Q8r+Wa9XIJhQZQcOquqpRgZ5REB4jrOA==|#6A5CFF    |1134,1640,1135,1641|\n",
    "\n",
    "\n",
    "This initial form of the dataset provided by Reddit isn't well suited for making our animation. Some things could be better:\n",
    "\n",
    "- The bulk of the file comes from the `user_id` column, which we don't care about.\n",
    "- The timestamp is a long string, and it's in a format that's expensive to parse. It would be better if it were just milliseconds as an integer.\n",
    "- There is only one `coordinate` column, which contains the x and y values separated by a comma. There should be separate x and y columns.\n",
    "- The r/Place admins used a \"rectangle drawing tool\" to cover \"inappropriate content\" on 21 occasions. These rectangles are given with four coordinates (x1, y1, x2, y2). The last row of the sample data is an example of this.\n",
    "- The `pixel_color` column gives the colors in hex format. There were only 32 colors to choose from, so we could cut this down significantly by assigning each color a number. It would also make the CSV faster to load.\n",
    "\n",
    "Lets start first with making functions to convert our timestamps, pixel colors, and coordinates into a more suitable format."
   ]
  },
  {
   "cell_type": "markdown",
   "id": "1f2cf26c",
   "metadata": {},
   "source": [
    "### Format dates with `parse_timestamp()`\n",
    "\n",
    "Reformatting the YYYY-MM-DD HH:MM:SS.SSS timestamp to milliseconds will cut down the resulting file size significantly. It will also be much faster to sort, and it's a better format for the calcuations we will perform later. We can also subtract the POSIX timestamp of the earliest pixel to reduce the size of the timestamp to a number that fits into a 32-bit unsigned integer."
   ]
  },
  {
   "cell_type": "code",
   "execution_count": 1,
   "id": "0888889a",
   "metadata": {},
   "outputs": [],
   "source": [
    "from datetime import datetime\n",
    "\n",
    "def parse_timestamp(timestamp):\n",
    "    \"\"\"Convert a YYYY-MM-DD HH:MM:SS.SSS timestamp to milliseconds after the start of r/Place 2022.\"\"\"\n",
    "    date_format = \"%Y-%m-%d %H:%M:%S.%f\"\n",
    "    try:\n",
    "        timestamp = datetime.strptime(timestamp[:-4], date_format).timestamp()\n",
    "    except ValueError:\n",
    "        # The timestamp is exactly on the second, so there is no decimal (%f).\n",
    "        # This happens 1/1000 of the time.\n",
    "        timestamp = datetime.strptime(timestamp[:-4], date_format[:-3]).timestamp()\n",
    "\n",
    "    # Convert from a float in seconds to an int in milliseconds\n",
    "    timestamp *= 1000.0\n",
    "    timestamp = int(timestamp)\n",
    "\n",
    "    # The earliest timestamp is 1648806250315, so subtract that from each timestamp\n",
    "    # to get the time in milliseconds since the beginning of the experiment.\n",
    "    timestamp -= 1648806250315\n",
    "\n",
    "    return str(timestamp)"
   ]
  },
  {
   "cell_type": "markdown",
   "id": "7f6ec9b7",
   "metadata": {},
   "source": [
    "### Format colors with `parse_pixel_color()`\n",
    "\n",
    "We can save storage space by asigning each of the 32 colors used in the event to an integer key. This key fits in an 8-bit unsigned integer, and can later be used to convert back to the color value."
   ]
  },
  {
   "cell_type": "code",
   "execution_count": 2,
   "id": "a268e7df",
   "metadata": {},
   "outputs": [],
   "source": [
    "def parse_pixel_color(pixel_color):\n",
    "    \"\"\"Convert a hex color code to an integer key.\"\"\"\n",
    "    hex_to_key = {\n",
    "        \"#000000\": \"0\",\n",
    "        \"#00756F\": \"1\",\n",
    "        \"#009EAA\": \"2\",\n",
    "        \"#00A368\": \"3\",\n",
    "        \"#00CC78\": \"4\",\n",
    "        \"#00CCC0\": \"5\",\n",
    "        \"#2450A4\": \"6\",\n",
    "        \"#3690EA\": \"7\",\n",
    "        \"#493AC1\": \"8\",\n",
    "        \"#515252\": \"9\",\n",
    "        \"#51E9F4\": \"10\",\n",
    "        \"#6A5CFF\": \"11\",\n",
    "        \"#6D001A\": \"12\",\n",
    "        \"#6D482F\": \"13\",\n",
    "        \"#7EED56\": \"14\",\n",
    "        \"#811E9F\": \"15\",\n",
    "        \"#898D90\": \"16\",\n",
    "        \"#94B3FF\": \"17\",\n",
    "        \"#9C6926\": \"18\",\n",
    "        \"#B44AC0\": \"19\",\n",
    "        \"#BE0039\": \"20\",\n",
    "        \"#D4D7D9\": \"21\",\n",
    "        \"#DE107F\": \"22\",\n",
    "        \"#E4ABFF\": \"23\",\n",
    "        \"#FF3881\": \"24\",\n",
    "        \"#FF4500\": \"25\",\n",
    "        \"#FF99AA\": \"26\",\n",
    "        \"#FFA800\": \"27\",\n",
    "        \"#FFB470\": \"28\",\n",
    "        \"#FFD635\": \"29\",\n",
    "        \"#FFF8B8\": \"30\",\n",
    "        \"#FFFFFF\": \"31\",\n",
    "    }\n",
    "\n",
    "    return hex_to_key[pixel_color]"
   ]
  },
  {
   "cell_type": "markdown",
   "id": "6829f9b2",
   "metadata": {},
   "source": [
    "### Format Coordinates with `parse_coordinate()`\n",
    "\n",
    "The Reddit dataset contains the xy coordinates in a single column. Each coordinate is given as a string of coordinates separated by commas (for example: `\"1627,255\"`). As mentioned previously, some of the coordinates are given with four values to represent a rectangle. We'll revisit to that problem soon."
   ]
  },
  {
   "cell_type": "code",
   "execution_count": 3,
   "id": "05513a7a",
   "metadata": {},
   "outputs": [],
   "source": [
    "def parse_coordinate(coordinate):\n",
    "    \"\"\"Split the coordinate string into two numbers.\"\"\"\n",
    "    return coordinate.split(\",\")"
   ]
  },
  {
   "cell_type": "markdown",
   "id": "aec7db58",
   "metadata": {},
   "source": [
    "### Putting it All Together\n",
    "\n",
    "Now that we have our parsers for the desired columns, we can use them with Python standard library `csv` module to convert the Reddit dataset to an optimized CSV format. After that, we can save ourselves some storage space by deleting the original dataset."
   ]
  },
  {
   "cell_type": "code",
   "execution_count": 4,
   "id": "1e0692d9",
   "metadata": {},
   "outputs": [
    {
     "name": "stdout",
     "output_type": "stream",
     "text": [
      "............................................................................................................................................................\n",
      "timestamp,pixel_color,x,y\n",
      "216581262,5,826,1048\n",
      "216583443,17,583,1031\n",
      "216584370,11,1873,558\n",
      "216647226,2,1627,255\n",
      "216665992,17,49,1478\n",
      "216670325,23,408,1863\n",
      "216684583,17,111,1582\n",
      "216690060,11,1334,1840\n",
      "216706853,11,1908,1854\n"
     ]
    }
   ],
   "source": [
    "import csv\n",
    "\n",
    "\n",
    "INFILE_PATH = 'data/2022_place_canvas_history.csv'\n",
    "TRIMMED_PATH = 'data/2022_place_canvas_history_trimmed.csv'\n",
    "SORTED_PATH = 'data/2022_place_canvas_history_sorted.csv'\n",
    "\n",
    "\n",
    "with open(INFILE_PATH, \"r\") as infile:\n",
    "    reader = csv.reader(infile)\n",
    "\n",
    "    with open(TRIMMED_PATH, \"w\", newline=\"\") as outfile:\n",
    "        writer = csv.writer(outfile)\n",
    "        writer.writerow([\"timestamp\", \"pixel_color\", \"x\", \"y\"])\n",
    "\n",
    "        # Skip the infile header.\n",
    "        next(reader)\n",
    "\n",
    "        i = 0\n",
    "        for row in reader:\n",
    "            timestamp = parse_timestamp(row[0])\n",
    "            pixel_color = parse_pixel_color(row[2])\n",
    "            try:\n",
    "                x, y = parse_coordinate(row[3])\n",
    "            except ValueError:\n",
    "                # The coordinate is a rectangle with x1, y1, x2, and y2 coordinates.\n",
    "                # Convert the rectangle into points.\n",
    "                x1, y1, x2, y2 = [int(i) for i in row[3].split(\",\")]\n",
    "                width = x2 - x1 + 1\n",
    "                height = y2 - y1 + 1\n",
    "\n",
    "                for i in range(width):\n",
    "                    for j in range(height):\n",
    "                        x = x1 + i\n",
    "                        y = y1 + j\n",
    "                        writer.writerow([timestamp, pixel_color, x, y])\n",
    "                continue\n",
    "\n",
    "            new_row = [timestamp, pixel_color, x, y]\n",
    "            writer.writerow(new_row)\n",
    "            \n",
    "            i += 1\n",
    "            if i % 1_000_000 == 0:\n",
    "                # Print a '.' every million lines so we know that something is happening.\n",
    "                print(\".\", end=\"\")\n",
    "        print()\n",
    "\n",
    "# Print the result.\n",
    "with open(TRIMMED_PATH, \"r\") as f:\n",
    "    for _ in range(10):\n",
    "        print(next(f), end=\"\")"
   ]
  },
  {
   "cell_type": "markdown",
   "id": "1cb979fe",
   "metadata": {},
   "source": [
    "## Sorting the Dataset\n",
    "\n",
    "Now that we've reformatted the dataset, we can load it into a Pandas dataframe with a fraction of the memory that would have been needed to hold the original format. Furthermore, we've already performed much of the heavy lifting required to parse the information."
   ]
  },
  {
   "cell_type": "code",
   "execution_count": 5,
   "id": "0f2b8b2d",
   "metadata": {},
   "outputs": [
    {
     "data": {
      "text/html": [
       "<div>\n",
       "<style scoped>\n",
       "    .dataframe tbody tr th:only-of-type {\n",
       "        vertical-align: middle;\n",
       "    }\n",
       "\n",
       "    .dataframe tbody tr th {\n",
       "        vertical-align: top;\n",
       "    }\n",
       "\n",
       "    .dataframe thead th {\n",
       "        text-align: right;\n",
       "    }\n",
       "</style>\n",
       "<table border=\"1\" class=\"dataframe\">\n",
       "  <thead>\n",
       "    <tr style=\"text-align: right;\">\n",
       "      <th></th>\n",
       "      <th>timestamp</th>\n",
       "      <th>pixel_color</th>\n",
       "      <th>x</th>\n",
       "      <th>y</th>\n",
       "    </tr>\n",
       "  </thead>\n",
       "  <tbody>\n",
       "    <tr>\n",
       "      <th>18172799</th>\n",
       "      <td>0</td>\n",
       "      <td>14</td>\n",
       "      <td>42</td>\n",
       "      <td>42</td>\n",
       "    </tr>\n",
       "    <tr>\n",
       "      <th>18172800</th>\n",
       "      <td>12356</td>\n",
       "      <td>3</td>\n",
       "      <td>999</td>\n",
       "      <td>999</td>\n",
       "    </tr>\n",
       "    <tr>\n",
       "      <th>18172801</th>\n",
       "      <td>16311</td>\n",
       "      <td>7</td>\n",
       "      <td>44</td>\n",
       "      <td>42</td>\n",
       "    </tr>\n",
       "    <tr>\n",
       "      <th>18172802</th>\n",
       "      <td>21388</td>\n",
       "      <td>21</td>\n",
       "      <td>2</td>\n",
       "      <td>2</td>\n",
       "    </tr>\n",
       "    <tr>\n",
       "      <th>18172803</th>\n",
       "      <td>34094</td>\n",
       "      <td>7</td>\n",
       "      <td>23</td>\n",
       "      <td>23</td>\n",
       "    </tr>\n",
       "  </tbody>\n",
       "</table>\n",
       "</div>"
      ],
      "text/plain": [
       "          timestamp  pixel_color    x    y\n",
       "18172799          0           14   42   42\n",
       "18172800      12356            3  999  999\n",
       "18172801      16311            7   44   42\n",
       "18172802      21388           21    2    2\n",
       "18172803      34094            7   23   23"
      ]
     },
     "execution_count": 5,
     "metadata": {},
     "output_type": "execute_result"
    }
   ],
   "source": [
    "import pandas as pd\n",
    "\n",
    "df = pd.read_csv(\n",
    "    TRIMMED_PATH,\n",
    "    dtype={\n",
    "        \"timestamp\": \"uint32\",\n",
    "        \"pixel_color\": \"uint8\",\n",
    "        \"x\": \"uint16\",\n",
    "        \"y\": \"uint16\",\n",
    "    },\n",
    ")\n",
    "\n",
    "df.sort_values(\"timestamp\", inplace=True)\n",
    "df.to_csv(SORTED_PATH, index=False)\n",
    "df.head()"
   ]
  },
  {
   "cell_type": "markdown",
   "id": "64b986d3",
   "metadata": {},
   "source": [
    "## Generating Color and Age Maps\n",
    "\n",
    "The final step before moving on to Blender is generating the color and age maps. For this, we will use an image processing library named [Pillow](https://pillow.readthedocs.io/en/stable/)."
   ]
  },
  {
   "cell_type": "markdown",
   "id": "9604c722",
   "metadata": {},
   "source": [
    "### The Problem With 16-bit Age Maps\n",
    "\n",
    "In my first renders, I simply saved the age of each pixel as a 16-bit integer in the age maps. If we record the pixel value as the age of the pixel in milliseconds, that means the pixel has an \"age resolution\" of 1 millisecond with a maximum age of 65.535 seconds. If we change the age resolution 100 milliseconds, that means we have a maximum age of 65,535 * 100 milliseconds = 6,553.5 seconds.\n",
    "\n",
    "Setting the age resolution too high results in short lived pixels. Setting the age resolution too low results in several pixels that have the same age, and are less accurate.\n",
    "\n",
    "However, this problem can be overcome with some math. Consider our final render, where the pixel's age corresponds to its height in the image. The heights of the pixels will be the most varied in the moments right after the pixel is changed. As the pixel gets older, it's change in height over time will be smaller and less important.\n",
    "\n",
    "It would be nice if we could trade some of the unnecessary resolution in our old pixels for higher resolution in our new pixels. Fortunately, we can do this with logorithms.\n",
    "\n",
    "Let's quickly review what a logorithmic scale looks like."
   ]
  },
  {
   "cell_type": "code",
   "execution_count": 6,
   "id": "d40f4f4a",
   "metadata": {},
   "outputs": [
    {
     "data": {
      "image/png": "[encoded data removed]",
      "text/plain": [
       "<Figure size 432x288 with 1 Axes>"
      ]
     },
     "metadata": {
      "needs_background": "light"
     },
     "output_type": "display_data"
    },
    {
     "data": {
      "text/plain": [
       "<Figure size 432x288 with 0 Axes>"
      ]
     },
     "metadata": {},
     "output_type": "display_data"
    }
   ],
   "source": [
    "import matplotlib.pyplot as plt\n",
    "import numpy as np\n",
    "\n",
    "x = np.linspace(0.1, 5, 100)\n",
    "y1 = np.log(x)\n",
    "y2 = np.log(x + 1)\n",
    "\n",
    "plt.plot(x, y1)\n",
    "plt.plot(x, y2, linestyle='--')\n",
    "plt.xlabel('x')\n",
    "plt.ylabel('y')\n",
    "plt.legend(['y = log(x)', 'y = log(x + 1)'])\n",
    "\n",
    "fig = plt.figure()\n",
    "plt.show()"
   ]
  },
  {
   "cell_type": "markdown",
   "id": "81b00295",
   "metadata": {},
   "source": [
    "Notice how for log(x), y approaches negative infinity as x decreases to zero. Pixels start with an age of zero, and negative infinity doesn't fit in a `uint16` pixel value. This can be fixed by simply adding 1 to `x`, which makes `y` equal to zero when `x` equals zero.\n",
    "\n",
    "How can using `log` help us reach our goal of trading age resolution on the high end for age resolution on the low end? Consider how the values for `x` near zero cover a much wider range of `y` of compared to higher values of `x`. This can be useful to us, since we want high age resolution for low (new) values, but we don't care so much about age resolution for high (old) values.\n",
    "\n",
    "We just need to scale the curve so that the it has the desired steepness (we'll call this 'compression'), and the oldest pixels have a value close to the maximum value of a 16-bit `uint` (65545).\n",
    "\n",
    "We will do this with a function called `age_to_val()`:"
   ]
  },
  {
   "cell_type": "code",
   "execution_count": 7,
   "id": "fd3768b1",
   "metadata": {},
   "outputs": [
    {
     "data": {
      "image/png": "[encoded data removed]",
      "text/plain": [
       "<Figure size 432x288 with 1 Axes>"
      ]
     },
     "metadata": {
      "needs_background": "light"
     },
     "output_type": "display_data"
    },
    {
     "data": {
      "text/plain": [
       "<Figure size 432x288 with 0 Axes>"
      ]
     },
     "metadata": {},
     "output_type": "display_data"
    }
   ],
   "source": [
    "UINT16_MAX = 65_535\n",
    "TIMESTAMP_MAX = 300_589_892\n"
   ]
  },
  {
   "cell_type": "code",
   "execution_count": null,
   "id": "0cb948fd",
   "metadata": {},
   "outputs": [],
   "source": [
    "\n",
    "def age_to_val(px_age, compression=0.0001):\n",
    "    \"\"\"Convert a pixel age into a 16-bit value.\n",
    "\n",
    "    Higher compression values make the transformation more extreme (less linear).\n",
    "    Tip: If you change the compression value here, you will also need to change it\n",
    "    in Blender's Geometry Nodes modifier settings!\n",
    "    \"\"\"\n",
    "\n",
    "    # Higer compression values make the transformation more extreme.\n",
    "    # This values needs to match the value in the Blender Geometry Nodes modifier.\n",
    "    # With a compression to 0.0001, the age resolution begins at about 1 ms and\n",
    "    # increases gradually with the age.\n",
    "\n",
    "    # Scale along the x-axis.\n",
    "    scaled_age = px_age * compression\n",
    "\n",
    "    # Scale along the y-axis.\n",
    "    scaling_const = UINT16_MAX / np.log(TIMESTAMP_MAX * compression + 1)\n",
    "\n",
    "    return scaling_const * np.log(scaled_age + 1)\n",
    "\n",
    "\n",
    "# The pixel age is our x axis.\n",
    "px_age = np.linspace(0, TIMESTAMP_MAX, 100)\n",
    "\n",
    "# The pixel value is our y axis.\n",
    "px_val_low_compression = age_to_val(px_age, compression=0.000001)\n",
    "px_val_default_compression = age_to_val(px_age)\n",
    "px_val_high_compression = age_to_val(px_age, compression=1)\n",
    "\n",
    "plt.plot(px_age, px_val_low_compression)\n",
    "plt.plot(px_age, px_val_default_compression, linestyle='--')\n",
    "plt.plot(px_age, px_val_high_compression, linestyle=':')\n",
    "\n",
    "# Add legends\n",
    "plt.legend(['compression = 0.000001', 'compression = 0.0001', 'compression = 1'])\n",
    "\n",
    "plt.title('Pixel Ages to Values')\n",
    "plt.xlabel('Pixel Age (ms)')\n",
    "plt.ylabel('Pixel Value')\n",
    "\n",
    "fig = plt.figure()\n",
    "plt.show()"
   ]
  },
  {
   "cell_type": "markdown",
   "id": "c4bd4d20",
   "metadata": {},
   "source": [
    "## Iterating Through the Dataset\n",
    "\n",
    "At this point, we have our dataset prepared and we have a way of converting pixel ages to pixel values. Now we can start iterating through the dataset to generate the color and age maps.\n",
    "\n",
    "- Generate two blank 2000x2000 \"canvases\":\n",
    "  - `img_color`: a Pillow `Image` object to hold the running color map. The initial color is white, so that the untouched pixels count as the maximum age.\n",
    "  - `px_birthtimes`: A 32-bit unsigned integer NumPy 2D array. Each value represents the timestamp of the most recent pixel to be placed there. The intial values are all zero, but zeros are treated as a special case where it means the pixel has never been changed.\n",
    "- Load the dataset into a Pandas dataframe called `df`."
   ]
  },
  {
   "cell_type": "code",
   "execution_count": 8,
   "id": "61fc820b",
   "metadata": {},
   "outputs": [
    {
     "ename": "KeyboardInterrupt",
     "evalue": "",
     "output_type": "error",
     "traceback": [
      "\u001b[1;31m---------------------------------------------------------------------------\u001b[0m",
      "\u001b[1;31mKeyboardInterrupt\u001b[0m                         Traceback (most recent call last)",
      "\u001b[1;32mc:\\Users\\Chris\\Desktop\\r-place-blender\\guide.ipynb Cell 20'\u001b[0m in \u001b[0;36m<cell line: 84>\u001b[1;34m()\u001b[0m\n\u001b[0;32m    <a href='vscode-notebook-cell:/c%3A/Users/Chris/Desktop/r-place-blender/guide.ipynb#ch0000018?line=114'>115</a>\u001b[0m \u001b[39m# Save the frames.\u001b[39;00m\n\u001b[0;32m    <a href='vscode-notebook-cell:/c%3A/Users/Chris/Desktop/r-place-blender/guide.ipynb#ch0000018?line=115'>116</a>\u001b[0m img_age\u001b[39m.\u001b[39msave(\u001b[39mf\u001b[39m\u001b[39m\"\u001b[39m\u001b[39mframes_age/\u001b[39m\u001b[39m{\u001b[39;00mfilename\u001b[39m}\u001b[39;00m\u001b[39m\"\u001b[39m, \u001b[39m\"\u001b[39m\u001b[39mPNG\u001b[39m\u001b[39m\"\u001b[39m, optimize\u001b[39m=\u001b[39m\u001b[39mTrue\u001b[39;00m, bits\u001b[39m=\u001b[39m\u001b[39m16\u001b[39m)\n\u001b[1;32m--> <a href='vscode-notebook-cell:/c%3A/Users/Chris/Desktop/r-place-blender/guide.ipynb#ch0000018?line=116'>117</a>\u001b[0m img_color\u001b[39m.\u001b[39;49msave(\u001b[39mf\u001b[39;49m\u001b[39m\"\u001b[39;49m\u001b[39mframes_color/\u001b[39;49m\u001b[39m{\u001b[39;49;00mfilename\u001b[39m}\u001b[39;49;00m\u001b[39m\"\u001b[39;49m, \u001b[39m\"\u001b[39;49m\u001b[39mPNG\u001b[39;49m\u001b[39m\"\u001b[39;49m, optimize\u001b[39m=\u001b[39;49m\u001b[39mTrue\u001b[39;49;00m)\n",
      "File \u001b[1;32mc:\\Users\\Chris\\Desktop\\r-place-blender\\.venv\\lib\\site-packages\\PIL\\Image.py:2300\u001b[0m, in \u001b[0;36mImage.save\u001b[1;34m(self, fp, format, **params)\u001b[0m\n\u001b[0;32m   <a href='file:///c%3A/Users/Chris/Desktop/r-place-blender/.venv/lib/site-packages/PIL/Image.py?line=2296'>2297</a>\u001b[0m         fp \u001b[39m=\u001b[39m builtins\u001b[39m.\u001b[39mopen(filename, \u001b[39m\"\u001b[39m\u001b[39mw+b\u001b[39m\u001b[39m\"\u001b[39m)\n\u001b[0;32m   <a href='file:///c%3A/Users/Chris/Desktop/r-place-blender/.venv/lib/site-packages/PIL/Image.py?line=2298'>2299</a>\u001b[0m \u001b[39mtry\u001b[39;00m:\n\u001b[1;32m-> <a href='file:///c%3A/Users/Chris/Desktop/r-place-blender/.venv/lib/site-packages/PIL/Image.py?line=2299'>2300</a>\u001b[0m     save_handler(\u001b[39mself\u001b[39;49m, fp, filename)\n\u001b[0;32m   <a href='file:///c%3A/Users/Chris/Desktop/r-place-blender/.venv/lib/site-packages/PIL/Image.py?line=2300'>2301</a>\u001b[0m \u001b[39mexcept\u001b[39;00m \u001b[39mException\u001b[39;00m:\n\u001b[0;32m   <a href='file:///c%3A/Users/Chris/Desktop/r-place-blender/.venv/lib/site-packages/PIL/Image.py?line=2301'>2302</a>\u001b[0m     \u001b[39mif\u001b[39;00m open_fp:\n",
      "File \u001b[1;32mc:\\Users\\Chris\\Desktop\\r-place-blender\\.venv\\lib\\site-packages\\PIL\\PngImagePlugin.py:1374\u001b[0m, in \u001b[0;36m_save\u001b[1;34m(im, fp, filename, chunk, save_all)\u001b[0m\n\u001b[0;32m   <a href='file:///c%3A/Users/Chris/Desktop/r-place-blender/.venv/lib/site-packages/PIL/PngImagePlugin.py?line=1371'>1372</a>\u001b[0m     _write_multiple_frames(im, fp, chunk, rawmode)\n\u001b[0;32m   <a href='file:///c%3A/Users/Chris/Desktop/r-place-blender/.venv/lib/site-packages/PIL/PngImagePlugin.py?line=1372'>1373</a>\u001b[0m \u001b[39melse\u001b[39;00m:\n\u001b[1;32m-> <a href='file:///c%3A/Users/Chris/Desktop/r-place-blender/.venv/lib/site-packages/PIL/PngImagePlugin.py?line=1373'>1374</a>\u001b[0m     ImageFile\u001b[39m.\u001b[39;49m_save(im, _idat(fp, chunk), [(\u001b[39m\"\u001b[39;49m\u001b[39mzip\u001b[39;49m\u001b[39m\"\u001b[39;49m, (\u001b[39m0\u001b[39;49m, \u001b[39m0\u001b[39;49m) \u001b[39m+\u001b[39;49m im\u001b[39m.\u001b[39;49msize, \u001b[39m0\u001b[39;49m, rawmode)])\n\u001b[0;32m   <a href='file:///c%3A/Users/Chris/Desktop/r-place-blender/.venv/lib/site-packages/PIL/PngImagePlugin.py?line=1375'>1376</a>\u001b[0m \u001b[39mif\u001b[39;00m info:\n\u001b[0;32m   <a href='file:///c%3A/Users/Chris/Desktop/r-place-blender/.venv/lib/site-packages/PIL/PngImagePlugin.py?line=1376'>1377</a>\u001b[0m     \u001b[39mfor\u001b[39;00m info_chunk \u001b[39min\u001b[39;00m info\u001b[39m.\u001b[39mchunks:\n",
      "File \u001b[1;32mc:\\Users\\Chris\\Desktop\\r-place-blender\\.venv\\lib\\site-packages\\PIL\\ImageFile.py:518\u001b[0m, in \u001b[0;36m_save\u001b[1;34m(im, fp, tile, bufsize)\u001b[0m\n\u001b[0;32m    <a href='file:///c%3A/Users/Chris/Desktop/r-place-blender/.venv/lib/site-packages/PIL/ImageFile.py?line=514'>515</a>\u001b[0m \u001b[39mif\u001b[39;00m exc:\n\u001b[0;32m    <a href='file:///c%3A/Users/Chris/Desktop/r-place-blender/.venv/lib/site-packages/PIL/ImageFile.py?line=515'>516</a>\u001b[0m     \u001b[39m# compress to Python file-compatible object\u001b[39;00m\n\u001b[0;32m    <a href='file:///c%3A/Users/Chris/Desktop/r-place-blender/.venv/lib/site-packages/PIL/ImageFile.py?line=516'>517</a>\u001b[0m     \u001b[39mwhile\u001b[39;00m \u001b[39mTrue\u001b[39;00m:\n\u001b[1;32m--> <a href='file:///c%3A/Users/Chris/Desktop/r-place-blender/.venv/lib/site-packages/PIL/ImageFile.py?line=517'>518</a>\u001b[0m         l, s, d \u001b[39m=\u001b[39m encoder\u001b[39m.\u001b[39;49mencode(bufsize)\n\u001b[0;32m    <a href='file:///c%3A/Users/Chris/Desktop/r-place-blender/.venv/lib/site-packages/PIL/ImageFile.py?line=518'>519</a>\u001b[0m         fp\u001b[39m.\u001b[39mwrite(d)\n\u001b[0;32m    <a href='file:///c%3A/Users/Chris/Desktop/r-place-blender/.venv/lib/site-packages/PIL/ImageFile.py?line=519'>520</a>\u001b[0m         \u001b[39mif\u001b[39;00m s:\n",
      "\u001b[1;31mKeyboardInterrupt\u001b[0m: "
     ]
    }
   ],
   "source": [
    "import os\n",
    "from PIL import Image\n",
    "import numpy as np\n",
    "\n",
    "timescale = 100  # 100 = 100x speed\n",
    "fps = 60\n",
    "\n",
    "# How many milliseconds the first frame will be captured after the start of the event.\n",
    "start_time = 3_000_000\n",
    "\n",
    "# The birthtime of the oldest pixel in the dataset, in milliseconds.\n",
    "TIMESTAMP_MAX = 300_589_892\n",
    "UINT16_MAX = 2**16 - 1\n",
    "\n",
    "# The time gap between frames.\n",
    "dt = round(timescale * 1000 / fps)\n",
    "\n",
    "# earlier we converted the hex colors from the r/Place dataset to a key.\n",
    "# We can use this tuple to convert the key to an RGB color.\n",
    "indexed_rgb = (\n",
    "    (0, 0, 0),\n",
    "    (0, 117, 111),\n",
    "    (0, 158, 170),\n",
    "    (0, 163, 104),\n",
    "    (0, 204, 120),\n",
    "    (0, 204, 192),\n",
    "    (36, 80, 164),\n",
    "    (54, 144, 234),\n",
    "    (73, 58, 193),\n",
    "    (81, 82, 82),\n",
    "    (81, 233, 244),\n",
    "    (106, 92, 255),\n",
    "    (109, 0, 26),\n",
    "    (109, 72, 47),\n",
    "    (126, 237, 86),\n",
    "    (129, 30, 159),\n",
    "    (137, 141, 144),\n",
    "    (148, 179, 255),\n",
    "    (156, 105, 38),\n",
    "    (180, 74, 192),\n",
    "    (190, 0, 57),\n",
    "    (212, 215, 217),\n",
    "    (222, 16, 127),\n",
    "    (228, 171, 255),\n",
    "    (255, 56, 129),\n",
    "    (255, 69, 0),\n",
    "    (255, 153, 170),\n",
    "    (255, 168, 0),\n",
    "    (255, 180, 112),\n",
    "    (255, 214, 53),\n",
    "    (255, 248, 184),\n",
    "    (255, 255, 255),\n",
    ")\n",
    "\n",
    "# Generate the canvases to hold the running values\n",
    "img_color = Image.new(\"RGB\", (2000, 2000), \"white\")\n",
    "px_birthtimes = np.zeros((2000, 2000), dtype=\"uint32\")\n",
    "\n",
    "# Load the dataset we processed and sorted earlier.\n",
    "df = pd.read_csv(\n",
    "    SORTED_PATH,\n",
    "    dtype={\n",
    "        \"timestamp\": \"uint32\",\n",
    "        \"pixel_color\": \"uint8\",\n",
    "        \"x\": \"uint16\",\n",
    "        \"y\": \"uint16\",\n",
    "    },\n",
    ")\n",
    "\n",
    "# Create an iterator that yields the rows of the dataset in order.\n",
    "px_iterator = df.itertuples()\n",
    "\n",
    "# Skip the header row.\n",
    "px = next(px_iterator)\n",
    "\n",
    "# Create \"frames_color\" and \"frames_age\" directories if they don't already exist.\n",
    "if not os.path.exists(\"frames_color\"):\n",
    "    os.mkdir(\"frames_color\")\n",
    "if not os.path.exists(\"frames_age\"):\n",
    "    os.mkdir(\"frames_age\")\n",
    "\n",
    "\n",
    "# Iterate through the frames.\n",
    "for ms in range(start_time, TIMESTAMP_MAX, dt):\n",
    "    # Draw pixels where timestamp == ms\n",
    "    # There may be multiple pixels with the same timestamp.\n",
    "    while px.timestamp <= ms:\n",
    "        # Draw the pixel's color to the color canvas.\n",
    "        img_color.putpixel(\n",
    "            (px.x, px.y),\n",
    "            indexed_rgb[px.pixel_color],\n",
    "        )\n",
    "        # Draw the pixel's birthtime to the birthtime canvas.\n",
    "        px_birthtimes[px.y, px.x] = px.timestamp\n",
    "        try:\n",
    "            # Get the next pixel.\n",
    "            px = next(px_iterator)\n",
    "        except StopIteration:\n",
    "            # Break out of the loop if we've reached the end of the dataset.\n",
    "            break\n",
    "\n",
    "    # After all of the pixels less than the frame's timestamp have been drawn,\n",
    "    # save the color and birthtime canvases as frames.\n",
    "\n",
    "    filename = f\"frame-{str((ms - start_time)//dt).zfill(4)}.png\"\n",
    "    \n",
    "    # Subtract the birthtimes of the pixels from the current time to get their ages.\n",
    "    # If the pixel has a timestamp of 0, treat it as having max age.\n",
    "    # (it's one of the original white pixels)\n",
    "    px_ages = np.where(px_birthtimes == 0, UINT16_MAX, age_to_val(ms - px_birthtimes))\n",
    "    \n",
    "    # Convert the NumPy array to a Pillow 16-bit Image object.\n",
    "    img_age = Image.fromarray(px_ages.astype(\"uint16\"), \"I;16\")\n",
    "\n",
    "    # Save the frames.\n",
    "    img_age.save(f\"frames_age/{filename}\", \"PNG\", optimize=True, bits=16)\n",
    "    img_color.save(f\"frames_color/{filename}\", \"PNG\", optimize=True)\n"
   ]
  }
 ],
 "metadata": {
  "kernelspec": {
   "display_name": "Python 3 (ipykernel)",
   "language": "python",
   "name": "python3"
  },
  "language_info": {
   "codemirror_mode": {
    "name": "ipython",
    "version": 3
   },
   "file_extension": ".py",
   "mimetype": "text/x-python",
   "name": "python",
   "nbconvert_exporter": "python",
   "pygments_lexer": "ipython3",
   "version": "3.10.2"
  }
 },
 "nbformat": 4,
 "nbformat_minor": 5
}
