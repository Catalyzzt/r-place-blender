{
 "cells": [
  {
   "cell_type": "markdown",
   "metadata": {},
   "source": [
    "# Generate Color and Heat Maps\n",
    "\n",
    "The final step before moving on to Blender is generating the color and heat maps. For this, we will use the image processing library, [ImageIO](https://imageio.readthedocs.io/en/stable/), with [Pillow](https://pillow.readthedocs.io/en/stable/) and [FreeImage](https://freeimage.sourceforge.io/) as [backend libraries](https://imageio.readthedocs.io/en/stable/reference/index.html?highlight=plugins#plugins-backend-libraries).\n",
    "\n",
    "Our color maps will be saved as normal 8-bit PNG files.\n",
    "\n",
    "The age heat map will both be stored an OpenEXR image file. OpenEXR is a file format that allows us to store pixel information in 16-bit floating point values. We will store the heat value in the green channel. The red and blue channels will be set to 0.\n"
   ]
  },
  {
   "cell_type": "markdown",
   "metadata": {},
   "source": [
    "## What is a Heat Map?\n",
    "\n",
    "In an earlier version of this project, the height of the pixels in the final render were directly related to the pixel's age (how long before the current frame the pixel was changed). This looked great as the canvas was first being drawn. New pixels would appear in waves (see my [Star Wars render](https://www.reddit.com/r/place/comments/u0gror/a_long_time_ago_in_a_subreddit_far_far_away/) for an example of this). However, older parts of the canvas didn't look so nice because the pixel placements were more random. The meaning of the pixel heights became less apparent.\n",
    "\n",
    "Rather than showing the age, it would be better if the pixel heights showed how frequently that pixel had been clicked recently. Early pixels will still be drawn in waves, and the older pixels will have much more variation in height. It will be clear that a pixel's height is related to how popular it is.\n",
    "\n",
    "But how do we know how much to change the height of a pixel after its been changed? How do we cause the unchanged pixels to lose height over time? To understand this, we first need to understand Earth's atmosphere.\n"
   ]
  },
  {
   "cell_type": "markdown",
   "metadata": {},
   "source": [
    "## Exponential Decay\n",
    "\n",
    "Take a any number and divide it in half. It will be reduced to half its initial value. Divide the result in half again. The result will be reduced to a quarter of the initial value. If you continue this process the change in value will get smaller and smaller. The result will get close to zero but never reach it. This is what we call exponential decay.\n",
    "\n",
    "Exponential decay is everywhere. The cooling of a body at ambient temperature, the radioactive decay of atoms into smaller atoms, and the resale value of cars with milage are all examples of exponential decay.\n",
    "\n",
    "### How to Calculate Exponential Decay\n",
    "\n",
    "The formula for exponential decay can be given as:\n",
    "\n",
    "<img src=\"https://render.githubusercontent.com/render/math?math={N(t) = N_0 e^{(-\\lambda t)}}\">\n",
    "\n",
    "where _N<sub>t</sub>_ is the quantity at time _t_, _N<sub>0</sub>_ is the initial quantity (when _t_ = 0), _e_ is [Euler's number](<https://en.wikipedia.org/wiki/E_(mathematical_constant)>) and λ is called the decay constant. (Source: [Wikipedia](https://en.wikipedia.org/wiki/Exponential_decay)).\n"
   ]
  },
  {
   "cell_type": "markdown",
   "metadata": {},
   "source": [
    "### Half Life\n",
    "\n",
    "More than just the title of a great video game, the half life a quantity is the amount of time needed for it to reach half its initial value. Consider the elements of the periodic table, for example.\n",
    "\n",
    "Tellurium-128 has a half life of 2.2 x 10<sup>24</sup> years. If you had a kilogram of Te-128, you would have to wait one hundred trillion times longer than the time since the Big Bang for half of it to decay into other forms of matter and energy.\n",
    "\n",
    "Elements with short half lives are often dangerously radioactive. U-235, the isotope of uranium used in nuclear weapons, has a half life of about 700 million years.\n",
    "\n",
    "A different way of writing the formula for exponential decay described above is:\n",
    "\n",
    "<img src=\"https://render.githubusercontent.com/render/math?math={N(t) = N_0 2^{-{\\frac{t}{t_{1/2}}}}}\">\n",
    "\n",
    "where _t<sub>1/2</sub>_ is the half life.\n",
    "\n",
    "For each frame in our animation, we can use this formula to recalculate the height _N(t)_ of each pixel based on its height in the previous frame _N<sub>0</sub>_ and the half life _t<sub>1/2</sub>_ we are using to control the decay rate of the heat values.\n",
    "\n",
    "For example, lets calculate the new height for a pixel if our animation is at 60 frames/s with 1000x playback speed, and the pixel with a height of 0. We will set the half life to 1 hour, so that the pixels lose half their height each hour (in the simulation time). 1 meters. 1000 ms / 60 FPS = 16.667 ms per frame at 1x speed. For 1000x times speed we just multiply by 1000 for 16.67 seconds per frame. Then we can just plug our values into the formula to get the pixel height in the new frame:\n",
    "\n",
    "<img src=\"https://render.githubusercontent.com/render/math?math={N(16.67 \\: \\mathrm{s}) = 0.1000 \\: \\mathrm{m} * 2^{-{\\frac{16.67 \\: \\mathrm{s}}{1 \\: \\mathrm{hr}}}}  = 0.09968 \\: \\mathrm{m}}\">\n",
    "\n",
    "In Python, we perform the calculations on the whole map as a NumPy array with the following code:\n"
   ]
  },
  {
   "cell_type": "code",
   "execution_count": 3,
   "metadata": {},
   "outputs": [
    {
     "data": {
      "text/plain": [
       "0.0999866273253562"
      ]
     },
     "execution_count": 3,
     "metadata": {},
     "output_type": "execute_result"
    }
   ],
   "source": [
    "def calculate_frame_heat(heat_map, half_life, dt):\n",
    "    \"\"\"\n",
    "    Given the heat map, half life, and time step,\n",
    "    calculate new heat values for the next frame.\n",
    "    \"\"\"\n",
    "    return heat_map * 2 ** (-dt / half_life)\n",
    "\n",
    "\n",
    "# This function works for single values too. Lets try it on the example above:\n",
    "hr_in_ms = 24 * 60 * 60 * 1000\n",
    "dt_in_ms = 16.67 * 1000\n",
    "calculate_frame_heat(0.1, hr_in_ms, dt_in_ms)\n"
   ]
  },
  {
   "cell_type": "code",
   "execution_count": 4,
   "metadata": {},
   "outputs": [
    {
     "data": {
      "text/plain": [
       "array([[0.09998663, 0.19997326],\n",
       "       [0.2999599 , 0.3999465 ]], dtype=float32)"
      ]
     },
     "execution_count": 4,
     "metadata": {},
     "output_type": "execute_result"
    }
   ],
   "source": [
    "import numpy as np\n",
    "\n",
    "# Now, lets try it on a 2D array:\n",
    "heat_map = np.array([[0.1, 0.2], [0.3, 0.4]], dtype=np.float32)\n",
    "calculate_frame_heat(heat_map, hr_in_ms, dt_in_ms)\n"
   ]
  },
  {
   "cell_type": "markdown",
   "metadata": {},
   "source": [
    "### Scale Height\n",
    "\n",
    "With our `calculate_frame_heat()` function, we can calculate the decay of the pixels as we iterate through the frames. But what about newly placed pixels? How much height shall we add when a pixel is changed?\n",
    "\n",
    "At first, I tried simply adding a constant value, like 0.1, to the existing height. This almost works, except the heights of the popular pixels becomes very high compared to the less popular pixels. I decided it would be better if the height increase on a short pixel was larger than the height increase on an already tall pixel. But how much does the height increase decrease as the starting height of the pixels increases? Again we turn to exponential decay in nature for a solution.\n",
    "\n",
    "The air pressure in Earth's atmosphere at sea level is approximately 14.70 pounds per square inch, or one standard atmosphere (1 atm). The air pressure decays exponentially with increasing altitude. We can write the formula for the air pressure as:\n",
    "\n",
    "<img src=\"https://render.githubusercontent.com/render/math?math={P = P_0 e^{-{\\frac{z}{H}}}}\">\n",
    "\n",
    "where _P_ is the pressure at altitude _z_, _P<sub>0</sub>_ is the pressure at sea level, and _H_ is the scale height.\n",
    "\n",
    "Scale height refers to the distance over which a quantity decreases by a factor of Euler's number _e_ (~2.718). The scale height for Earth's atmosphere at zero degrees celsius is about 8,000 meters.\n",
    "\n",
    "<!-- TODO: Apply this to pixel height -->\n",
    "\n",
    "<!-- TODO: Explain with Python. -->\n"
   ]
  },
  {
   "cell_type": "code",
   "execution_count": 5,
   "metadata": {},
   "outputs": [
    {
     "data": {
      "image/png": "[encoded data removed]",
      "text/plain": [
       "<Figure size 432x288 with 1 Axes>"
      ]
     },
     "metadata": {
      "needs_background": "light"
     },
     "output_type": "display_data"
    }
   ],
   "source": [
    "import matplotlib.pyplot as plt\n",
    "from math import exp\n",
    "\n",
    "\n",
    "def calculate_pressure(P_0, z, H):\n",
    "    \"\"\"\n",
    "    Given the initial pressure P_0, height z, and scale height H,\n",
    "    calculate the pressure at the given height.\n",
    "    \"\"\"\n",
    "    try:\n",
    "        # Get the pressure when z is a single value.\n",
    "        return P_0 * exp(-z / H)\n",
    "    except TypeError:\n",
    "        # This is a NumPy array.\n",
    "        return P_0 * np.exp(-z / H)\n",
    "\n",
    "\n",
    "# Lets plot this out:\n",
    "H = 8000  # Scale height when the temperature is 0 C in meters\n",
    "P_0 = 1  # Pressure at sea level = 1 atm\n",
    "z = np.linspace(0, 20_000, 100)\n",
    "P = calculate_pressure(P_0, z, H)\n",
    "plt.plot(z, P)\n",
    "plt.title(\"Pressure Decrease with Altitude at 273K\")\n",
    "plt.xlabel(\"altitude (m)\")\n",
    "plt.ylabel(\"pressure (atm)\")\n",
    "plt.ylim(ymin=0)\n",
    "plt.show()\n"
   ]
  },
  {
   "cell_type": "markdown",
   "metadata": {},
   "source": [
    "If we think of the increase in pixel height at a given starting height as its \"pressure\", we can repurpose our function to calculate the new height after a pixel is changed.\n"
   ]
  },
  {
   "cell_type": "code",
   "execution_count": 6,
   "metadata": {},
   "outputs": [
    {
     "data": {
      "image/png": "[encoded data removed]",
      "text/plain": [
       "<Figure size 432x288 with 1 Axes>"
      ]
     },
     "metadata": {
      "needs_background": "light"
     },
     "output_type": "display_data"
    }
   ],
   "source": [
    "H = 0.3  # Scale height in meters\n",
    "P_0 = 0.1  # Height increase for pixels with a starting height of 0 in meters.\n",
    "z = np.linspace(0, 1, 100)\n",
    "P = calculate_pressure(P_0, z, H)\n",
    "plt.plot(z, P)\n",
    "plt.title(\"Pixel Height Increase based on Initial Height\")\n",
    "plt.xlabel(\"initial height (m)\")\n",
    "plt.ylabel(\"height increase (m)\")\n",
    "plt.show()\n"
   ]
  },
  {
   "cell_type": "markdown",
   "metadata": {},
   "source": [
    "## Iterate Through the Dataset\n",
    "\n",
    "At this point, we have our dataset prepared and we have a way of converting heat values into pixel values. We can finally start iterating through the dataset to generate the color and heat maps.\n",
    "\n",
    "For this, we will create a new function called `generate_maps()`. This function loads the data from the `.parquet` file and iterates through the dataset while saving the color and heat maps to the directories specified in its arguments.\n",
    "\n",
    "To do this, `generate()` simulates the entire r/Place event, placing color and heat pixels on two \"canvases\" as it iterates through time:\n",
    "\n",
    "- `img_color`: a Pillow `Image` object to hold the running color map. The initial color is white, so that the untouched pixels count as the maximum age.\n",
    "- `img_data`: A 32-bit unsigned integer NumPy 2D array. Each value represents the timestamp of the most recent pixel to be placed there. The initial values are all zero, but zeros are treated as a special case where it means the pixel has never been changed.\n",
    "\n",
    "The iteration is interrupted with the timestamp of the current pixel exceeds the time of the current frame. The color and heat canvases are then saved as PNG and OpenEXR images, respectively. The iteration stops when either there are no more pixels in the dataset, or the desired amount of frames have been rendered.\n"
   ]
  },
  {
   "cell_type": "code",
   "execution_count": 7,
   "metadata": {},
   "outputs": [],
   "source": [
    "import numpy as np\n",
    "import pandas as pd\n",
    "from pathlib import Path\n",
    "import imageio\n",
    "import matplotlib.pyplot as plt\n",
    "from math import exp\n",
    "\n",
    "TIMESTAMP_MAX = 300_589_892\n",
    "\n",
    "\n",
    "def generate(\n",
    "    infile,\n",
    "    colorpath,\n",
    "    datapath,\n",
    "    start_ms=0,\n",
    "    timescale=1000,\n",
    "    frames=600,\n",
    "    fps=60,\n",
    "    heat_half_life=10 * 60 * 1000,\n",
    "    scale_height=0.3,\n",
    "):\n",
    "    \"\"\"Generate the heat and color frames for the given file.\"\"\"\n",
    "\n",
    "    df = pd.read_parquet(infile)\n",
    "\n",
    "    # The time gap between frames.\n",
    "    dt = round(timescale * 1000 / fps)\n",
    "\n",
    "    # earlier we converted the hex colors from the r/Place dataset to a key.\n",
    "    # We can use this tuple to convert the key to an RGB color.\n",
    "    indexed_rgb = (\n",
    "        (0, 0, 0),\n",
    "        (0, 117, 111),\n",
    "        (0, 158, 170),\n",
    "        (0, 163, 104),\n",
    "        (0, 204, 120),\n",
    "        (0, 204, 192),\n",
    "        (36, 80, 164),\n",
    "        (54, 144, 234),\n",
    "        (73, 58, 193),\n",
    "        (81, 82, 82),\n",
    "        (81, 233, 244),\n",
    "        (106, 92, 255),\n",
    "        (109, 0, 26),\n",
    "        (109, 72, 47),\n",
    "        (126, 237, 86),\n",
    "        (129, 30, 159),\n",
    "        (137, 141, 144),\n",
    "        (148, 179, 255),\n",
    "        (156, 105, 38),\n",
    "        (180, 74, 192),\n",
    "        (190, 0, 57),\n",
    "        (212, 215, 217),\n",
    "        (222, 16, 127),\n",
    "        (228, 171, 255),\n",
    "        (255, 56, 129),\n",
    "        (255, 69, 0),\n",
    "        (255, 153, 170),\n",
    "        (255, 168, 0),\n",
    "        (255, 180, 112),\n",
    "        (255, 214, 53),\n",
    "        (255, 248, 184),\n",
    "        (255, 255, 255),\n",
    "    )\n",
    "\n",
    "    # Generate the canvases to hold the running values\n",
    "    img_color = np.full((2000, 2000, 3), 255, dtype=np.uint8)\n",
    "    img_heat = np.zeros((2000, 2000), dtype=np.float32)\n",
    "\n",
    "    # Create an iterator that yields the rows of the dataset in order.\n",
    "    px_iterator = df.itertuples()\n",
    "\n",
    "    # Get the first pixel.\n",
    "    px = next(px_iterator)\n",
    "\n",
    "    # We won't bother calculating the heat for pixels that will be more than ten\n",
    "    # half lives old by the time we reach the first frame. At ten half lives,\n",
    "    # a pixel will be 1/1024th of it's initial height. We also make sure\n",
    "    # the the buffer time is a multiple of the frame gap time (dt), so that the start\n",
    "    # time is precise to the millisecond.\n",
    "    heat_map_buffer_time = dt * (10 * heat_half_life // dt)\n",
    "    calculation_start_time = max(0, start_ms - heat_map_buffer_time)\n",
    "\n",
    "    # Iterate through the frames.\n",
    "    frame_no = 0\n",
    "    for ms in range(calculation_start_time, TIMESTAMP_MAX, dt):\n",
    "        # Stop after the last frame.\n",
    "        if frame_no >= frames:\n",
    "            break\n",
    "\n",
    "        # Draw pixels where timestamp <= ms\n",
    "        while px.timestamp <= ms:\n",
    "            # Draw the pixel's color to the color canvas.\n",
    "            img_color[px.y, px.x] = indexed_rgb[px.pixel_color]\n",
    "\n",
    "            # Make the added height for new pixels\n",
    "            #  decay exponentially with initial height.\n",
    "            H_0 = 0.1\n",
    "            img_heat[px.y, px.x] += calculate_pressure(\n",
    "                H_0,  # Height increase for a pixel with starting height of 0\n",
    "                img_heat[px.y, px.x],  # Initial height of this pixel\n",
    "                scale_height\n",
    "            )\n",
    "\n",
    "            try:\n",
    "                # Get the next pixel.\n",
    "                px = next(px_iterator)\n",
    "            except StopIteration:\n",
    "                # Break out of the loop if we've reached the end of the dataset.\n",
    "                break\n",
    "\n",
    "        # After all of the pixels less than the frame's timestamp have been drawn,\n",
    "        # save the color and birthtime canvases as frames.\n",
    "        img_heat = calculate_frame_heat(img_heat, heat_half_life, dt)\n",
    "\n",
    "        if ms < start_ms:\n",
    "            # Don't save the frame if it's before the start time.\n",
    "            continue\n",
    "\n",
    "        zero_arr = np.zeros((2000,2000), dtype=np.float32)\n",
    "        img_data = np.dstack((zero_arr, img_heat, zero_arr))\n",
    "\n",
    "        # Save the frames.\n",
    "        imageio.imwrite(\n",
    "            colorpath / f\"frame-{str(frame_no).zfill(4)}.png\",\n",
    "            img_color,\n",
    "            optimize=True,\n",
    "        )\n",
    "\n",
    "        imageio.imwrite(\n",
    "            datapath / f\"frame-{str(frame_no).zfill(4)}.exr\",\n",
    "            img_data,\n",
    "        )\n",
    "\n",
    "        frame_no += 1\n",
    "\n",
    "\n",
    "# Download the FreeImage backend library if it doesn't exist.\n",
    "imageio.plugins.freeimage.download()\n",
    "\n",
    "generate(\n",
    "    Path(\"../data/2022_place_canvas_history.parquet\"),\n",
    "    Path(\"../data/frames_color\"),\n",
    "    Path(\"../data/frames_heat\"),\n",
    "    start_ms=99645924 + 60 * 60 * 1000,  # one hour after first expansion\n",
    "    # start_ms=195583041,  # second expansion\n",
    "    # start_ms=295409870,  # last non-white pixel placed\n",
    "    frames=1,  # Only save the first frame.\n",
    "    timescale=(5 * 60 * 60 / 20),  # five hours => 20 seconds\n",
    "    heat_half_life=(30 * 60 * 1000),  # 30 minute half life.\n",
    ")\n",
    "\n",
    "# Show the first color frame.\n",
    "img_color = imageio.imread(\"../data/frames_color/frame-0000.png\")\n",
    "plt.imshow(img_color)\n"
   ]
  },
  {
   "cell_type": "code",
   "execution_count": null,
   "metadata": {},
   "outputs": [
    {
     "name": "stderr",
     "output_type": "stream",
     "text": [
      "Clipping input data to the valid range for imshow with RGB data ([0..1] for floats or [0..255] for integers).\n"
     ]
    },
    {
     "data": {
      "text/plain": [
       "<matplotlib.image.AxesImage at 0x1c1ad2293c0>"
      ]
     },
     "execution_count": 222,
     "metadata": {},
     "output_type": "execute_result"
    },
    {
     "data": {
      "image/png": "[encoded data removed]",
      "text/plain": [
       "<Figure size 432x288 with 1 Axes>"
      ]
     },
     "metadata": {
      "needs_background": "light"
     },
     "output_type": "display_data"
    }
   ],
   "source": [
    "img_data = imageio.imread(\"../data/frames_heat/frame-0000.exr\")\n",
    "\n",
    "# matplotlib will complain about some of the pixels being clipped. This is fine.\n",
    "# EXR format allows for values greater than one. I normally just try to get a result\n",
    "# That's mostly black with a little bit of green mixed in.\n",
    "plt.imshow(img_data)"
   ]
  },
  {
   "cell_type": "markdown",
   "metadata": {},
   "source": [
    "## Next Steps\n",
    "\n",
    "[Continue with the \"Rendering With Blender\" section](3_blender.md)\n"
   ]
  }
 ],
 "metadata": {
  "interpreter": {
   "hash": "8866ae275ef7f2073076ec8ed26efa6b9856a051043929af779a94e25be15214"
  },
  "kernelspec": {
   "display_name": "Python 3 (ipykernel)",
   "language": "python",
   "name": "python3"
  },
  "language_info": {
   "codemirror_mode": {
    "name": "ipython",
    "version": 3
   },
   "file_extension": ".py",
   "mimetype": "text/x-python",
   "name": "python",
   "nbconvert_exporter": "python",
   "pygments_lexer": "ipython3",
   "version": "3.10.2"
  }
 },
 "nbformat": 4,
 "nbformat_minor": 2
}
